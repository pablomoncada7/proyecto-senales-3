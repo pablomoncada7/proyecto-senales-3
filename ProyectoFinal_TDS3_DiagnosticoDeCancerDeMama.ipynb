{
 "cells": [
  {
   "cell_type": "markdown",
   "metadata": {},
   "source": [
    "## DIAGNOSTICO DE CANCER DE MAMA UTILIANTO TECNICAS DE INTELIGENCIA COMPUTACIONAL\n",
    "\n",
    "## Preguntas a resolver\n",
    "- ¿Es posible determinar a tiempo el diagnostico de una masa cancerigena?\n",
    "- ¿Que caracteristicas son fundamentales a la hora de determinar el diagnostico de una masa cancerigena?\n",
    "- ¿Como un algoritmo de inteligencia artificial puede ser de ayuda en el tratamiento de un paciente con cancer de mama?\n",
    "    \n",
    "    \n",
    "## Descripción del problema \n",
    "- La enfermedad del cancer ha sido un problema de salud bastante complicado, tanto en su diagnostico como en su tratamiento       en cualquier momento de la historia, por lo que un diagnostico a una etapa temprana puede ser crucial para el futuro de un       paciente lo cual puede decidir la vida de este mismo, por lo cual mediante la ayuda de tecnicas de inteligencia artificial       se busca generar un Pre-diagnostico a una etapa muy temprana, la cual puede ser crucial y que sirva de apoyo al    profesional   de la salud para el tratamiendo o no de un paciente en especifico, de manera que se pueda determinar si la masa cencerigena     que presenta un paciente corresponde a un cancer benigno o a un cancer maligno y asi poder brindarle al paciente un           tratamiento adecuado para tener mayor probabilidad de salvar la vida del paciente si este llegase a presentar un cancer maligno.\n",
    "\n",
    " Para lo cual se busca desarollar una herramenta eficaz, que sirva de apoyo al especialista de la salud, haciendo uso de unos historicos del departamento medico de wisconsin que se tienen de masas cancerigenas la cual corresponde a la base de datos, que servira de ayuda para poder determinar en un futuro un pre-diagnostico de nuevas masas cancerigenas.\n",
    " \n",
    "## Posibles fuentes de información \n",
    "- A hybrid approach based on decision trees and clustering for breast cancer classification; Hind Elouedi, Walid Meliani, Zied Elouedi, Nahla Ben Amor; publicadon en 2014 6th International Conference of Soft Computing and Pattern Recognition (SoCPaR), del año 2014 https://ieeexplore.ieee.org/abstract/document/7008010/authors#authors\n",
    "\n",
    "- An expert system for detection of breast cancer based on association rules and neural network; Murat Karabatak, M. Cevdet Ince; https://www.sciencedirect.com/science/article/abs/pii/S0957417408001103#!\n",
    "\n",
    "- WBCD breast cancer database classification applying artificial metaplasticity neural network, A. Marcano-Cedeño, J. Quintanilla-Domíngez, D. Andina; del año 2011 https://www.sciencedirect.com/science/article/abs/pii/S0957417411002004#!\n",
    "\n",
    "- Sánchez Anzola, N. (2015). Máquinas de soporte vectorial y redes neuronales artificiales en la predicción del movimiento USD/COP spot intradiario. ODEON, 9, pp. 113-172. DOI: http://dx.doi.org/10.18601/17941113.n9.04.\n",
    "\n",
    "\n",
    "## Estado del arte\n"
   ]
  },
  {
   "cell_type": "code",
   "execution_count": null,
   "metadata": {
    "collapsed": true
   },
   "outputs": [],
   "source": []
  }
 ],
 "metadata": {
  "kernelspec": {
   "display_name": "Python 3",
   "language": "python",
   "name": "python3"
  },
  "language_info": {
   "codemirror_mode": {
    "name": "ipython",
    "version": 3
   },
   "file_extension": ".py",
   "mimetype": "text/x-python",
   "name": "python",
   "nbconvert_exporter": "python",
   "pygments_lexer": "ipython3",
   "version": "3.6.3"
  }
 },
 "nbformat": 4,
 "nbformat_minor": 2
}
